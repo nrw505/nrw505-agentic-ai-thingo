{
 "cells": [
  {
   "cell_type": "markdown",
   "metadata": {
    "editable": true,
    "slideshow": {
     "slide_type": ""
    },
    "tags": []
   },
   "source": [
    "# Deploying Strands Agents to AWS Lambda\n",
    "\n",
    "This notebook demonstrates how to package Strands Agents SDK, build a Lambda layer, and deploy a Lambda function using Python and boto3.\n",
    "\n",
    "If you're not familiar with the Strands Agents SDK, check out the [official documentation](https://strandsagents.com)."
   ]
  },
  {
   "cell_type": "markdown",
   "metadata": {},
   "source": [
    "## Prerequisites\n",
    "\n",
    "- Python 3.12 or later\n",
    "- boto3 1.39 or later\n",
    "- AWS CLI installed and configured with appropriate permissions\n",
    "\n",
    "In addition, you should have the follwoing readily available:\n",
    "- Amazon S3 bucket to package code\n",
    "- AWS IAM role for automation access\n",
    "- Knowledge bases are fully synched\n",
    "- External functions for enterprise systems"
   ]
  },
  {
   "cell_type": "markdown",
   "metadata": {},
   "source": [
    "## Step 0: Import required libraries"
   ]
  },
  {
   "cell_type": "code",
   "execution_count": null,
   "metadata": {},
   "outputs": [],
   "source": [
    "import os\n",
    "import json\n",
    "import time\n",
    "import boto3\n",
    "import shutil\n",
    "import zipfile\n",
    "import tempfile\n",
    "import subprocess\n",
    "from pathlib import Path"
   ]
  },
  {
   "cell_type": "markdown",
   "metadata": {},
   "source": [
    "## Step 1: Set required parameters"
   ]
  },
  {
   "cell_type": "code",
   "execution_count": null,
   "metadata": {},
   "outputs": [],
   "source": [
    "Knowledge_Base_1_Id = '<provide 1st Knowledge Base Id>'\n",
    "Knowledge_Base_2_Id = '<provide 2nd Knowledge Base Id>'\n",
    "System_Function_1_Name = '<provide 1st System Function Name>'\n",
    "System_Function_2_Name = '<provide 2nd System Function Name>'\n",
    "Agent_Directory_Name = '<provide agent directory name based on event use case>'\n",
    "CodeBucketForAutomationName = '<provide CodeBucketForAutomationName - not full ARN>'\n",
    "SolutionAccessRoleArn = '<provide SolutionAccessRoleArn>'"
   ]
  },
  {
   "cell_type": "markdown",
   "metadata": {},
   "source": [
    "## Step 2: Verify Lambda function code and requirements\n",
    "\n",
    "We'll use the Lambda function code and requirements from the external files."
   ]
  },
  {
   "cell_type": "code",
   "execution_count": null,
   "metadata": {},
   "outputs": [],
   "source": [
    "# Verify Lambda function code exists\n",
    "lambda_file = Path(f\"{Agent_Directory_Name}/lambda_function.py\")\n",
    "if lambda_file.exists():\n",
    "    print(f\"Lambda function code found at {lambda_file}\")\n",
    "else:\n",
    "    print(f\"Lambda function code not found at {lambda_file}\")\n",
    "    \n",
    "# Verify requirements file exists\n",
    "requirements_file = Path(f\"{Agent_Directory_Name}/requirements.txt\")\n",
    "if requirements_file.exists():\n",
    "    print(f\"Requirements file found at {requirements_file}\")\n",
    "else:\n",
    "    print(f\"Requirements file not found at {requirements_file}\")"
   ]
  },
  {
   "cell_type": "markdown",
   "metadata": {},
   "source": [
    "## Step 3: Deploy Lambda Layer with Minimal Dependencies"
   ]
  },
  {
   "cell_type": "code",
   "execution_count": null,
   "metadata": {
    "editable": true,
    "slideshow": {
     "slide_type": ""
    },
    "tags": []
   },
   "outputs": [],
   "source": [
    "def create_optimized_layer():\n",
    "    '''Create a Lambda layer with all dependencies except excluded ones.'''\n",
    "    with tempfile.TemporaryDirectory() as temp_dir:\n",
    "        temp_path = Path(temp_dir)\n",
    "        python_path = temp_path / \"python\"\n",
    "        python_path.mkdir()\n",
    "        \n",
    "        # Define excluded packages (boto3 is pre-installed in Lambda)\n",
    "        excludedlist = [\n",
    "            # AWS SDK components (pre-installed in Lambda)\n",
    "            \"boto3\", \"botocore\", \"aws-requests-auth\", \"s3transfer\", \"jmespath\",\n",
    "            \n",
    "            # Large packages with significant size\n",
    "            \"numpy\", \"pillow\", \"grpcio\", \"protobuf\", \"sqlalchemy\", \n",
    "            \"openai\", \"qdrant-client\", \"mem0ai\", \"slack-bolt\", \"slack_sdk\",\n",
    "            \n",
    "            # Optional dependencies\n",
    "            \"pytz\", \"posthog\", \"opensearch-py\", \"sympy\", \"greenlet\",\n",
    "            \n",
    "            # Web-related packages not needed in Lambda\n",
    "            \"uvicorn\", \"starlette\", \"httpx\", \"httpcore\", \"h2\", \"hpack\",\n",
    "            \n",
    "            # Visualization and development tools\n",
    "            \"pygments\", \"tqdm\", \"markdown-it-py\"\n",
    "        ]\n",
    "        \n",
    "        # Install all requirements with their dependencies\n",
    "        subprocess.run(\n",
    "            [\"pip\", \"install\", \"-r\", str(requirements_file), \"-t\", str(python_path)],\n",
    "            check=True\n",
    "        )\n",
    "        \n",
    "        # Remove excluded packages if they were installed\n",
    "        for pkg in excludedlist:\n",
    "            pkg_path = python_path / pkg\n",
    "            if pkg_path.exists() and pkg_path.is_dir():\n",
    "                shutil.rmtree(pkg_path)\n",
    "                print(f\"Removed excluded package: {pkg}\")\n",
    "        \n",
    "        # Create a zip file of the layer\n",
    "        layer_zip_path = \"strands_agents_minimal_layer.zip\"\n",
    "        with zipfile.ZipFile(layer_zip_path, \"w\", zipfile.ZIP_DEFLATED) as zipf:\n",
    "            for root, _, files in os.walk(temp_path):\n",
    "                for file in files:\n",
    "                    file_path = os.path.join(root, file)\n",
    "                    arcname = os.path.relpath(file_path, temp_path)\n",
    "                    zipf.write(file_path, arcname)\n",
    "        \n",
    "        return layer_zip_path\n",
    "\n",
    "# Create the Lambda layer\n",
    "layer_zip_path = create_optimized_layer()\n",
    "print(f\"Lambda layer packaged at {layer_zip_path}\")\n",
    "\n",
    "# Upload the layer to AWS Lambda\n",
    "def upload_layer_to_lambda(layer_zip_path):\n",
    "    '''Upload the layer zip file to AWS Lambda and return the layer ARN.'''\n",
    "    lambda_client = boto3.client('lambda')\n",
    "    \n",
    "    with open(layer_zip_path, 'rb') as zip_file:\n",
    "        response = lambda_client.publish_layer_version(\n",
    "            LayerName='StrandsAgentsLayer',\n",
    "            Description='Strands Agents SDK and dependencies',\n",
    "            Content={\n",
    "                'ZipFile': zip_file.read()\n",
    "            },\n",
    "            CompatibleRuntimes=['python3.12']\n",
    "        )\n",
    "    \n",
    "    return response['LayerVersionArn']\n",
    "\n",
    "# Upload the layer to Lambda\n",
    "layer_arn = upload_layer_to_lambda(layer_zip_path)\n",
    "print(f\"Lambda layer uploaded with ARN: {layer_arn}\")"
   ]
  },
  {
   "cell_type": "markdown",
   "metadata": {},
   "source": [
    "## Step 4: Package Lambda Function"
   ]
  },
  {
   "cell_type": "code",
   "execution_count": null,
   "metadata": {},
   "outputs": [],
   "source": [
    "def package_lambda_function():\n",
    "    '''Package the Lambda function code into a zip file.'''\n",
    "    function_zip_path = \"agent_lambda.zip\"\n",
    "    \n",
    "    with zipfile.ZipFile(function_zip_path, \"w\", zipfile.ZIP_DEFLATED) as zipf:       \n",
    "        # Add all Python files from the agent directory\n",
    "        # We need to flatten the structure for Lambda to find the modules\n",
    "        agent_dir = Path(Agent_Directory_Name)\n",
    "        for file_path in agent_dir.glob(\"*.py\"):\n",
    "            zipf.write(file_path, file_path.name)\n",
    "    \n",
    "    return function_zip_path\n",
    "\n",
    "# Package the Lambda function\n",
    "function_zip_path = package_lambda_function()\n",
    "print(f\"Lambda function packaged at {function_zip_path}\")"
   ]
  },
  {
   "cell_type": "markdown",
   "metadata": {},
   "source": [
    "## Step 5: Deploy Lambda Function"
   ]
  },
  {
   "cell_type": "code",
   "execution_count": null,
   "metadata": {
    "editable": true,
    "slideshow": {
     "slide_type": ""
    },
    "tags": []
   },
   "outputs": [],
   "source": [
    "function_name = 'StrandsLambdaAgent'\n",
    "\n",
    "def upload_to_s3(file_path, bucket_name, s3_key):\n",
    "    '''Upload a file to S3 and return the S3 location.'''\n",
    "    s3_client = boto3.client('s3')\n",
    "    s3_client.upload_file(file_path, bucket_name, s3_key)\n",
    "    return f\"s3://{bucket_name}/{s3_key}\"\n",
    "\n",
    "\n",
    "def lambda_function_exists(function_name):\n",
    "    client = boto3.client('lambda')\n",
    "    try:\n",
    "        client.get_function(FunctionName=function_name)\n",
    "        return True\n",
    "    except Exception as e:\n",
    "        if e.response['Error']['Code'] == 'ResourceNotFoundException':\n",
    "            return False\n",
    "        else:\n",
    "            raise\n",
    "\n",
    "\n",
    "def deploy_lambda_function(function_zip_path, layer_arn, role_arn, bucket_name):\n",
    "    '''Deploy the Lambda function to AWS using S3.'''\n",
    "    # Upload the function zip to S3\n",
    "    s3_key = f\"lambda-functions/{os.path.basename(function_zip_path)}\"\n",
    "    s3_location = upload_to_s3(function_zip_path, bucket_name, s3_key)\n",
    "    print(f\"Function uploaded to {s3_location}\")\n",
    "    \n",
    "    # Create the function from S3\n",
    "    lambda_client = boto3.client('lambda')\n",
    "    response = lambda_client.create_function(\n",
    "        FunctionName=function_name,\n",
    "        Runtime='python3.12',\n",
    "        Role=role_arn,\n",
    "        Handler='lambda_function.handler',\n",
    "        Code={\n",
    "            'S3Bucket': bucket_name,\n",
    "            'S3Key': s3_key\n",
    "        },\n",
    "        Environment={\n",
    "            'Variables': {\n",
    "                'KNOWLEDGE_BASE_1_ID': Knowledge_Base_1_Id,\n",
    "                'KNOWLEDGE_BASE_2_ID': Knowledge_Base_2_Id,\n",
    "                'SYSTEM_FUNCTION_1_NAME': System_Function_1_Name,\n",
    "                'SYSTEM_FUNCTION_2_NAME': System_Function_2_Name\n",
    "            }\n",
    "        },\n",
    "        Timeout=60,\n",
    "        MemorySize=512,\n",
    "        Layers=[layer_arn],\n",
    "        Description='Strands Agents Lambda function'\n",
    "    )\n",
    "    \n",
    "    return response['FunctionArn']\n",
    "\n",
    "\n",
    "def update_lambda_function_code(function_name, zip_file_path):\n",
    "    client = boto3.client('lambda')\n",
    "    with open(zip_file_path, 'rb') as f:\n",
    "        zip_content = f.read()\n",
    "    response = client.update_function_code(\n",
    "        FunctionName=function_name,\n",
    "        ZipFile=zip_content\n",
    "    )\n",
    "    return response\n",
    "    \n",
    "# Update or deploy Lambda function\n",
    "if lambda_function_exists(function_name) == True:\n",
    "    update_lambda_function_code(function_name, function_zip_path)\n",
    "    print(f\"Lambda code updated for function: {function_name}\")\n",
    "else:\n",
    "    function_arn = deploy_lambda_function(function_zip_path, layer_arn, SolutionAccessRoleArn, CodeBucketForAutomationName)\n",
    "    print(f\"Lambda function deployed with ARN: {function_arn}\")\n",
    "\n",
    "# Wait for 10 seconds\n",
    "print(\"Waiting for Lambda deployment to complete...\")\n",
    "time.sleep(10) \n",
    "\n",
    "# Check Lambda status\n",
    "lambda_client = boto3.client('lambda')\n",
    "response = lambda_client.get_function(FunctionName=function_name)\n",
    "print(f\"Lambda status: {response['Configuration']['State']}\")"
   ]
  },
  {
   "cell_type": "markdown",
   "metadata": {
    "editable": true,
    "slideshow": {
     "slide_type": ""
    },
    "tags": []
   },
   "source": [
    "## Step 6: Test the Lambda Function"
   ]
  },
  {
   "cell_type": "code",
   "execution_count": null,
   "metadata": {},
   "outputs": [],
   "source": [
    "def invoke_lambda_function():\n",
    "    '''Invoke the Lambda function and return the response.'''\n",
    "    lambda_client = boto3.client('lambda')\n",
    "    \n",
    "    payload = {\n",
    "        'prompt': 'A new user is asking about the price of Doggy Delights?'\n",
    "    }\n",
    "    \n",
    "    response = lambda_client.invoke(\n",
    "        FunctionName=function_name,\n",
    "        InvocationType='RequestResponse',\n",
    "        Payload=json.dumps(payload)\n",
    "    )\n",
    "    \n",
    "    response_payload = json.loads(response['Payload'].read().decode('utf-8'))\n",
    "    return response_payload\n",
    "\n",
    "# Invoke the Lambda function\n",
    "response = invoke_lambda_function()\n",
    "print(\"Lambda function response:\")\n",
    "print(json.dumps(response, indent=2))"
   ]
  },
  {
   "cell_type": "markdown",
   "metadata": {
    "editable": true,
    "slideshow": {
     "slide_type": ""
    },
    "tags": []
   },
   "source": [
    "## Step 7: Cleanup Resources (Optional)"
   ]
  },
  {
   "cell_type": "code",
   "execution_count": null,
   "metadata": {},
   "outputs": [],
   "source": [
    "def cleanup_resources():\n",
    "    '''Clean up AWS resources created in this notebook.'''\n",
    "    lambda_client = boto3.client('lambda')\n",
    "    s3_client = boto3.client('s3')\n",
    "    \n",
    "    try:\n",
    "        # Get the function to retrieve layer information\n",
    "        function_info = lambda_client.get_function(FunctionName=function_name)\n",
    "        \n",
    "        # Extract layer ARNs\n",
    "        layer_arns = [layer['Arn'] for layer in function_info['Configuration'].get('Layers', [])]\n",
    "        \n",
    "        # Delete the Lambda function\n",
    "        lambda_client.delete_function(FunctionName=function_name)\n",
    "        print(f\"Lambda function {function_name} deleted\")\n",
    "        \n",
    "        # Delete each layer version\n",
    "        for layer_arn in layer_arns:\n",
    "            # Extract layer name and version from ARN\n",
    "            parts = layer_arn.split(':')\n",
    "            layer_name = parts[-2]\n",
    "            layer_version = int(parts[-1])\n",
    "            \n",
    "            lambda_client.delete_layer_version(\n",
    "                LayerName=layer_name,\n",
    "                VersionNumber=layer_version\n",
    "            )\n",
    "            print(f\"Layer {layer_name} version {layer_version} deleted\")\n",
    "        \n",
    "        # Delete S3 objects\n",
    "        s3_prefix = f\"lambda-functions/{function_name}\"\n",
    "        response = s3_client.list_objects_v2(\n",
    "            Bucket=CodeBucketForAutomationName,\n",
    "            Prefix=s3_prefix\n",
    "        )\n",
    "        \n",
    "        if 'Contents' in response:\n",
    "            for obj in response['Contents']:\n",
    "                s3_client.delete_object(\n",
    "                    Bucket=CodeBucketForAutomationName,\n",
    "                    Key=obj['Key']\n",
    "                )\n",
    "                print(f\"S3 object {obj['Key']} deleted\")\n",
    "    \n",
    "    except Exception as e:\n",
    "        print(f\"Error deleting lambda: {e}\")\n",
    "    \n",
    "    # Clean up local files\n",
    "    for file_path in [layer_zip_path, function_zip_path]:\n",
    "        try:\n",
    "            os.remove(file_path)\n",
    "            print(f\"Deleted local file: {file_path}\")\n",
    "        except Exception as e:\n",
    "            print(f\"Error deleting file: {e}\")\n",
    "\n",
    "# Uncomment the line below to clean up resources\n",
    "# cleanup_resources()"
   ]
  },
  {
   "cell_type": "markdown",
   "metadata": {},
   "source": [
    "## Summary\n",
    "\n",
    "In this notebook, we demonstrated how to:\n",
    "\n",
    "1. Use the agent directory structure for Lambda function code and requirements\n",
    "2. Package Strands Agents SDK and its dependencies as a Lambda layer\n",
    "3. Deploy the Lambda function and layer using boto3 with a provided IAM role\n",
    "4. Test the deployed Lambda function"
   ]
  }
 ],
 "metadata": {
  "kernelspec": {
   "display_name": "Python 3 (ipykernel)",
   "language": "python",
   "name": "python3"
  },
  "language_info": {
   "codemirror_mode": {
    "name": "ipython",
    "version": 3
   },
   "file_extension": ".py",
   "mimetype": "text/x-python",
   "name": "python",
   "nbconvert_exporter": "python",
   "pygments_lexer": "ipython3",
   "version": "3.12.9"
  }
 },
 "nbformat": 4,
 "nbformat_minor": 4
}
